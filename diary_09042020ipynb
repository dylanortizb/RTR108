{
  "nbformat": 4,
  "nbformat_minor": 0,
  "metadata": {
    "colab": {
      "name": "Untitled",
      "provenance": [],
      "collapsed_sections": [],
      "authorship_tag": "ABX9TyNb7PqRYse0jaj7fEZmmibf",
      "include_colab_link": true
    },
    "kernelspec": {
      "name": "python3",
      "display_name": "Python 3"
    }
  },
  "cells": [
    {
      "cell_type": "markdown",
      "metadata": {
        "id": "view-in-github",
        "colab_type": "text"
      },
      "source": [
        "<a href=\"https://colab.research.google.com/github/dylanortizb/RTR108/blob/master/diary_09042020ipynb\" target=\"_parent\"><img src=\"https://colab.research.google.com/assets/colab-badge.svg\" alt=\"Open In Colab\"/></a>"
      ]
    },
    {
      "cell_type": "code",
      "metadata": {
        "id": "NnH-AowDyVJW",
        "colab_type": "code",
        "colab": {}
      },
      "source": [
        ""
      ],
      "execution_count": 0,
      "outputs": []
    },
    {
      "cell_type": "code",
      "metadata": {
        "id": "V6fduls_m0QH",
        "colab_type": "code",
        "outputId": "2255bb52-8c95-4bec-bb5c-bbed4d1b8b1d",
        "colab": {
          "base_uri": "https://localhost:8080/",
          "height": 261
        }
      },
      "source": [
        "x = 2.25\n",
        "from math import cos\n",
        "y = (-cos(x))\n",
        "print(y)\n",
        "a0 = -(((-1.)**0)*(x**(2*0)))/(1)\n",
        "print(\"a0= \",a0)\n",
        "a1 = -(((-1.)**1)*(x**(2*1)))/(1*2)\n",
        "print(\"a1= \",a1)\n",
        "a2 = -(((-1.)**2)*(x**(2*2)))/(1*2*3*4)\n",
        "print(\"a2= \",a2)\n",
        "a3 = -(((-1.)**3)*(x**(2*3)))/(1*2*3*4*5*6)\n",
        "print(\"a3= \",a3)\n",
        "new_a1 = -a0 * ((x)**2)/(2)\n",
        "print(\"new a1= \",new_a1)\n",
        "new_a2 = -new_a1 * (x**2)/(3*4)\n",
        "print(\"new a2= \",new_a2)\n",
        "new_a3 = -new_a2 * (x**2)/(5*6)\n",
        "print(\"new a3= \",new_a3)\n",
        "\n",
        "\n",
        "S0 = a0\n",
        "print(\"a0 = %.2f S0 = %.2f\"%(a0,S0))\n",
        "\n",
        "S1 = a0 + a1\n",
        "print(\"a1 = %.2f S1 = %.2f\"%(a1,S1))\n",
        "\n",
        "S2 = a0 + a1 + a2\n",
        "print(\"a2 = %.2f S2 = %.2f\"%(a2,S2))\n",
        "S3 = a0 + a1 + a2 + a3\n",
        "print(\"a3 = %.2f S3 = %.2f\"%(a3,S3))\n",
        "new_a1+new_a2+new_a3+a0\n",
        "\n",
        "S = a0\n",
        "print(\"a0 = %.2f S0 = %.2f\"%(a0,S))\n",
        "\n",
        "-(a0+new_a1+new_a2+new_a3)\n"
      ],
      "execution_count": 3,
      "outputs": [
        {
          "output_type": "stream",
          "text": [
            "0.6281736227227391\n",
            "a0=  -1.0\n",
            "a1=  2.53125\n",
            "a2=  -1.06787109375\n",
            "a3=  0.1802032470703125\n",
            "new a1=  2.53125\n",
            "new a2=  -1.06787109375\n",
            "new a3=  0.1802032470703125\n",
            "a0 = -1.00 S0 = -1.00\n",
            "a1 = 2.53 S1 = 1.53\n",
            "a2 = -1.07 S2 = 0.46\n",
            "a3 = 0.18 S3 = 0.64\n",
            "a0 = -1.00 S0 = -1.00\n"
          ],
          "name": "stdout"
        },
        {
          "output_type": "execute_result",
          "data": {
            "text/plain": [
              "-0.6435821533203125"
            ]
          },
          "metadata": {
            "tags": []
          },
          "execution_count": 3
        }
      ]
    },
    {
      "cell_type": "code",
      "metadata": {
        "id": "ZNnxDB5ZP-_-",
        "colab_type": "code",
        "colab": {
          "base_uri": "https://localhost:8080/",
          "height": 157
        },
        "outputId": "8b02a69f-6771-4259-b105-f56b8b80ff54"
      },
      "source": [
        "from math import cos\n",
        "def my_cos(x):\n",
        "  k = 0\n",
        "  a = -(((-1)**0)*(x**0))/(1)\n",
        "  S = a\n",
        "  print(\"Izdruka no liet.f. a0 = %6.2f S0 = %6.2f\"%(a,S))\n",
        "  while k < 3:\n",
        "    k = k + 1\n",
        "    R = -((-1)*(x**2))/((2*k-1)*(2*k))\n",
        "    a = a + R\n",
        "    S = S + a\n",
        "    print(\"Izdruka no liet.f. a%d = %6.2f S%d = %6.2f\"%(k,a,k,S))\n",
        "  print(\"Izdruka no liet.f. Beigas!\")\n",
        "  return S\n",
        "x = float(input(\"Enter a number (x): \"))\n",
        "y = -cos(x)\n",
        "print((x,y))\n",
        "yy = my_cos(x)\n",
        "print((x,yy))"
      ],
      "execution_count": 9,
      "outputs": [
        {
          "output_type": "stream",
          "text": [
            "Enter a number (x): 2.25\n",
            "(2.25, 0.6281736227227391)\n",
            "Izdruka no liet.f. a0 =  -1.00 S0 =  -1.00\n",
            "Izdruka no liet.f. a1 =   1.53 S1 =   0.53\n",
            "Izdruka no liet.f. a2 =   1.95 S2 =   2.48\n",
            "Izdruka no liet.f. a3 =   2.12 S3 =   4.61\n",
            "Izdruka no liet.f. Beigas!\n",
            "(2.25, 4.60625)\n"
          ],
          "name": "stdout"
        }
      ]
    }
  ]
}